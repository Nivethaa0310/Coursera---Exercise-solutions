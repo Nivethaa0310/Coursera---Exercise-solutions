{
 "cells": [
  {
   "cell_type": "code",
   "execution_count": 1,
   "id": "b6a89953",
   "metadata": {},
   "outputs": [
    {
     "name": "stdout",
     "output_type": "stream",
     "text": [
      "Below are the exercise solutions\n"
     ]
    }
   ],
   "source": [
    "print(\"Below are the exercise solutions\")"
   ]
  },
  {
   "cell_type": "markdown",
   "id": "0f2f25f9",
   "metadata": {},
   "source": [
    "Ex 2 - Exercise "
   ]
  },
  {
   "cell_type": "markdown",
   "id": "4edbdb95",
   "metadata": {},
   "source": [
    "Ex 3 - This notebook contains all the solutions for the exerices listed in this module for peer review. "
   ]
  },
  {
   "cell_type": "markdown",
   "id": "b8e46710",
   "metadata": {},
   "source": [
    "Ex 4 - The following are the list of data science languages. \n",
    "       1.Python\n",
    "       2.R\n",
    "       3.SQL\n",
    "       4.Java\n",
    "       5.Javascript"
   ]
  },
  {
   "cell_type": "markdown",
   "id": "a85f867a",
   "metadata": {},
   "source": [
    "Ex 5 - The following are the list of python libraries.\n",
    "       1.Numpy\n",
    "       2.Pandas\n",
    "       3.Matplotlib\n",
    "       4.Seaborn\n",
    "       5.Scikit learn\n",
    "       6.ggplot"
   ]
  },
  {
   "cell_type": "markdown",
   "id": "553c11e5",
   "metadata": {},
   "source": [
    "Ex 6 - The following are the list of tools.\n",
    "\n",
    "       | Data science tools|\n",
    "       ---------------------\n",
    "         1. MySQL\n",
    "         2. MangoDB\n",
    "         3. Cassandra\n",
    "         4. HDFS\n",
    "         5. Kafka\n",
    "         6. Apache Spark\n",
    "       "
   ]
  },
  {
   "cell_type": "markdown",
   "id": "b1eed514",
   "metadata": {},
   "source": [
    " Ex 7 - Arithmetic Expression Examples\n",
    "\n",
    "In this exercise, we will explore basic \"arithmetic expressions\" in Python. Arithmetic expressions are used to perform mathematical operations such as:\n",
    "\n",
    "- Addition (+)\n",
    "- Subtraction (-)\n",
    "- Multiplication (*)\n",
    "- Division (/)\n",
    "- Exponentiation (**)\n",
    "- Modulus (%)"
   ]
  },
  {
   "cell_type": "code",
   "execution_count": 2,
   "id": "3d54163b",
   "metadata": {},
   "outputs": [
    {
     "name": "stdout",
     "output_type": "stream",
     "text": [
      "Result for multiplication :  200\n",
      "Result for addition :  30\n"
     ]
    }
   ],
   "source": [
    "## Exercise 8 - Create a code cell to multiply and add numbers \n",
    "\n",
    "a = 10\n",
    "b = 20\n",
    "print(\"Result for multiplication : \",a*b)\n",
    "print(\"Result for addition : \",a+b)\n"
   ]
  },
  {
   "cell_type": "code",
   "execution_count": 1,
   "id": "12d37a6a",
   "metadata": {},
   "outputs": [
    {
     "name": "stdout",
     "output_type": "stream",
     "text": [
      "Time in hours is :  1.5\n"
     ]
    }
   ],
   "source": [
    "## Exercise 9 - Create a code cell to convert minutes to hours. \n",
    "\n",
    "time_in_mins=90\n",
    "min_to_hr = time_in_mins/60 \n",
    "print(\"Time in hours is : \",min_to_hr)"
   ]
  },
  {
   "cell_type": "markdown",
   "id": "e16ce746",
   "metadata": {},
   "source": [
    "Ex 10 -Insert a markdown cell to list Objectives.\n",
    "\n",
    "- Describe the components of a Data Scientist's toolkit and list various tool categories.\n",
    "- List examples of open-source tools used in data science.\n",
    "- Describe the relevant features of open-source tools.\n",
    "- List examples of commercial and cloud-based data science tools.\n",
    "- Identify the users and benefits of Python.\n",
    "- Identify the users and benefits of R language.\n",
    "- Define SQL elements and list its benefits.\n",
    "- List the various libraries: scientific, visualization, machine learning, and deep learning.\n",
    "- Define REST API in relation to request and response."
   ]
  },
  {
   "cell_type": "markdown",
   "id": "b1b41477",
   "metadata": {},
   "source": [
    "Ex 11 - Create a markdown cell to indicate the Author’s name\n",
    "\n",
    "- Aije Egwaikhide\n",
    "- Svetlana Levitan\n",
    "- Romeo Kienzler"
   ]
  }
 ],
 "metadata": {
  "kernelspec": {
   "display_name": "Python 3",
   "language": "python",
   "name": "python3"
  },
  "language_info": {
   "codemirror_mode": {
    "name": "ipython",
    "version": 3
   },
   "file_extension": ".py",
   "mimetype": "text/x-python",
   "name": "python",
   "nbconvert_exporter": "python",
   "pygments_lexer": "ipython3",
   "version": "3.10.0"
  }
 },
 "nbformat": 4,
 "nbformat_minor": 5
}
